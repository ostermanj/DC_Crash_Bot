{
 "cells": [
  {
   "cell_type": "markdown",
   "metadata": {},
   "source": [
    "# Exploratory Analysis - Worst State Drivers"
   ]
  },
  {
   "cell_type": "markdown",
   "metadata": {},
   "source": [
    "This notebook looks at moving violations in DC to see which state's drivers rack up the most."
   ]
  },
  {
   "cell_type": "markdown",
   "metadata": {},
   "source": [
    "## Import libraries"
   ]
  },
  {
   "cell_type": "code",
   "execution_count": 163,
   "metadata": {},
   "outputs": [],
   "source": [
    "##Import Libraries\n",
    "import psycopg2 #PostgreSQL driver\n",
    "import datetime\n",
    "import sys, os\n",
    "import numpy as np\n",
    "import pandas as pd\n",
    "import matplotlib.pyplot as plt\n",
    "import seaborn as sns\n",
    "import json\n",
    "import pandas.io.sql as psql\n",
    "import geopandas as gpd\n",
    "import SQL_cred\n",
    "from collections import Counter\n",
    "from IPython.display import Markdown as md\n"
   ]
  },
  {
   "cell_type": "markdown",
   "metadata": {},
   "source": [
    "## Load data from database or from file"
   ]
  },
  {
   "cell_type": "code",
   "execution_count": 61,
   "metadata": {},
   "outputs": [],
   "source": [
    "#Set SQL Address, Create SQL import function 'load_data'\n",
    "conn_string = \"host=\"+ SQL_cred.PGHOST +\" port=\"+ \"5432\" +\" dbname=\"+ SQL_cred.PGDATABASE +\" user=\" + SQL_cred.PGUSER \\\n",
    "+\" password=\"+ SQL_cred.PGPASSWORD\n",
    "\n",
    "def load_data(query):\n",
    "\n",
    "    sql_command = query\n",
    "    print (sql_command)\n",
    "\n",
    "    # Load the data\n",
    "    data = pd.read_sql(sql_command, conn)\n",
    "\n",
    "    print(data.shape)\n",
    "    return (data)"
   ]
  },
  {
   "cell_type": "code",
   "execution_count": 62,
   "metadata": {},
   "outputs": [
    {
     "name": "stdout",
     "output_type": "stream",
     "text": [
      "True\n"
     ]
    }
   ],
   "source": [
    "conn=psycopg2.connect(conn_string)\n",
    "query=\"SELECT issue_date,latitude, longitude,fine_amount, violation_code, violation_process_desc,plate_state, objectid FROM analysis_data.moving_violations\"\n",
    "cursor = conn.cursor() # is this necessary?\n",
    "if not os.path.exists('worst-state.csv'):\n",
    "    df=load_data(query)\n",
    "    df.to_csv('worst-state.csv')\n"
   ]
  },
  {
   "cell_type": "code",
   "execution_count": 130,
   "metadata": {},
   "outputs": [
    {
     "name": "stdout",
     "output_type": "stream",
     "text": [
      "<class 'pandas.core.frame.DataFrame'>\n",
      "Int64Index: 11301604 entries, 0 to 11301603\n",
      "Data columns (total 8 columns):\n",
      " #   Column                  Dtype         \n",
      "---  ------                  -----         \n",
      " 0   issue_date              datetime64[ns]\n",
      " 1   latitude                float64       \n",
      " 2   longitude               float64       \n",
      " 3   fine_amount             float64       \n",
      " 4   violation_code          object        \n",
      " 5   violation_process_desc  object        \n",
      " 6   plate_state             object        \n",
      " 7   objectid                int64         \n",
      "dtypes: datetime64[ns](1), float64(3), int64(1), object(3)\n",
      "memory usage: 776.0+ MB\n"
     ]
    }
   ],
   "source": [
    "mv=pd.read_csv('worst-state.csv',index_col=0,parse_dates=['issue_date'])\n",
    "mv.info()"
   ]
  },
  {
   "cell_type": "code",
   "execution_count": 166,
   "metadata": {},
   "outputs": [],
   "source": [
    "states = ['DC', 'MD', 'VA']\n",
    "mv_by_year_state_violation = mv[mv['plate_state'].isin(states)].groupby(\n",
    "    [mv['issue_date'].dt.year, 'plate_state', 'violation_process_desc']).count()['objectid'].reset_index()\n",
    "mv_by_year_state_violation = mv_by_year_state_violation.rename(\n",
    "    columns={'plate_state': 'state', 'issue_date': 'year', 'objectid': 'violation_count', 'violation_process_desc': 'violation'})\n",
    "first_year = mv_by_year_state_violation.year.min()\n",
    "last_year = mv_by_year_state_violation.year.max()\n"
   ]
  },
  {
   "cell_type": "markdown",
   "metadata": {},
   "source": [
    "## Which state had the most violations year over year?"
   ]
  },
  {
   "cell_type": "code",
   "execution_count": 194,
   "metadata": {},
   "outputs": [
    {
     "data": {
      "text/markdown": [
       "**MD** drivers have the most violations from 2010 to 2021: 328,969"
      ],
      "text/plain": [
       "<IPython.core.display.Markdown object>"
      ]
     },
     "execution_count": 194,
     "metadata": {},
     "output_type": "execute_result"
    }
   ],
   "source": [
    "sums_all_years = mv_by_year_state_violation.groupby(\n",
    "    ['state']).sum()['violation_count'].to_frame().reset_index()\n",
    "\n",
    "state_with_most = sums_all_years[sums_all_years.violation_count == sums_all_years.violation_count.max()]\n",
    "md(\"**{state}** drivers have the most violations from {first_year} to {last_year}: {number}\".format(\n",
    "    state=state_with_most.iloc[0]['state'], first_year=first_year, last_year=last_year, number=format(state_with_most.iloc[0]['violation_count'], ',')))"
   ]
  },
  {
   "cell_type": "code",
   "execution_count": 195,
   "metadata": {},
   "outputs": [
    {
     "data": {
      "text/plain": [
       "<AxesSubplot:xlabel='year'>"
      ]
     },
     "execution_count": 195,
     "metadata": {},
     "output_type": "execute_result"
    },
    {
     "data": {
      "image/png": "[encoded data removed]",
      "text/plain": [
       "<Figure size 432x288 with 1 Axes>"
      ]
     },
     "metadata": {
      "needs_background": "light"
     },
     "output_type": "display_data"
    }
   ],
   "source": [
    "mv_by_state_year = mv_by_year_state_violation.groupby(\n",
    "    ['state', 'year']).sum()['violation_count'].reset_index()\n",
    "pv_by_state_year = mv_by_state_year.pivot(\n",
    "    columns=\"state\", index=\"year\").reset_index()\n",
    "pv_by_state_year.plot(x=\"year\", y=\"violation_count\")\n"
   ]
  },
  {
   "cell_type": "markdown",
   "metadata": {},
   "source": [
    "## Which state had the most violations in five years?"
   ]
  },
  {
   "cell_type": "code",
   "execution_count": 197,
   "metadata": {},
   "outputs": [
    {
     "data": {
      "text/markdown": [
       "**MD** drivers have the most violations from 2016 to 2021: 98,133"
      ],
      "text/plain": [
       "<IPython.core.display.Markdown object>"
      ]
     },
     "execution_count": 197,
     "metadata": {},
     "output_type": "execute_result"
    }
   ],
   "source": [
    "sums_5_years = mv_by_year_state_violation[mv_by_year_state_violation['year'] > last_year - 5].groupby(\n",
    "    ['state']).sum()['violation_count'].to_frame().reset_index()\n",
    "\n",
    "state_with_most_5_year = sums_5_years[sums_5_years.violation_count ==\n",
    "                                 sums_5_years.violation_count.max()]\n",
    "md(\"**{state}** drivers have the most violations from {first_year} to {last_year}: {number}\".format(\n",
    "    state=state_with_most_5_year.iloc[0]['state'], first_year=last_year - 5, last_year=last_year, number=format(state_with_most_5_year.iloc[0]['violation_count'], ',')))\n"
   ]
  },
  {
   "cell_type": "code",
   "execution_count": 199,
   "metadata": {},
   "outputs": [
    {
     "data": {
      "text/plain": [
       "<AxesSubplot:xlabel='year'>"
      ]
     },
     "execution_count": 199,
     "metadata": {},
     "output_type": "execute_result"
    },
    {
     "data": {
      "image/png": "[encoded data removed]",
      "text/plain": [
       "<Figure size 432x288 with 1 Axes>"
      ]
     },
     "metadata": {
      "needs_background": "light"
     },
     "output_type": "display_data"
    }
   ],
   "source": [
    "pv_by_state_year[pv_by_state_year.year > last_year - 5].plot(x=\"year\", y=\"violation_count\")\n"
   ]
  },
  {
   "cell_type": "markdown",
   "metadata": {},
   "source": [
    "## What was the most common violation for each state?"
   ]
  },
  {
   "cell_type": "code",
   "execution_count": 262,
   "metadata": {},
   "outputs": [
    {
     "data": {
      "text/markdown": [
       "The most common violation for **DC** drivers was **PASSING STOP SIGN WITHOUT COMING TO A FULL STOP**.\n",
       "\n",
       "The most common violation for **MD** drivers was **FAIL TO DISPLAY PROOF OF VEHICLE INSURANCE**.\n",
       "\n",
       "The most common violation for **VA** drivers was **FAIL TO DISPLAY PROOF OF VEHICLE INSURANCE**."
      ],
      "text/plain": [
       "<IPython.core.display.Markdown object>"
      ]
     },
     "execution_count": 262,
     "metadata": {},
     "output_type": "execute_result"
    }
   ],
   "source": [
    "mv_state_violation = mv_by_year_state_violation.groupby(['state','violation']).sum()['violation_count'].reset_index()\n",
    "mv_state_violation.groupby(['state'])['violation_count'].max()\n",
    "idx = mv_state_violation.groupby(['state'])['violation_count'].transform(max) == mv_state_violation['violation_count']\n",
    "outputList = [\"The most common violation for **{state}** drivers was **{violation}**.\".format(\n",
    "    state=state, violation=mv_state_violation[idx].set_index('state').loc[state]['violation']) for state in states]\n",
    "md('\\n\\n'.join(outputList))\n"
   ]
  }
 ],
 "metadata": {
  "kernelspec": {
   "display_name": "Python 3",
   "language": "python",
   "name": "python3"
  },
  "language_info": {
   "codemirror_mode": {
    "name": "ipython",
    "version": 3
   },
   "file_extension": ".py",
   "mimetype": "text/x-python",
   "name": "python",
   "nbconvert_exporter": "python",
   "pygments_lexer": "ipython3",
   "version": "3.9.5"
  }
 },
 "nbformat": 4,
 "nbformat_minor": 4
}
